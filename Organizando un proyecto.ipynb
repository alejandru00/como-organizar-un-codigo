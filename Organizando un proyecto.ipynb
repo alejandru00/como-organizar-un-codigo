{
 "cells": [
  {
   "cell_type": "markdown",
   "metadata": {
    "vscode": {
     "languageId": "plaintext"
    }
   },
   "source": [
    "# Organizando un proyecto"
   ]
  },
  {
   "cell_type": "markdown",
   "metadata": {
    "vscode": {
     "languageId": "plaintext"
    }
   },
   "source": [
    "**Niveles**:\n",
    "\n",
    "* Código\n",
    "* Notebook\n",
    "* Repositorio"
   ]
  },
  {
   "cell_type": "markdown",
   "metadata": {
    "vscode": {
     "languageId": "plaintext"
    }
   },
   "source": [
    "# Objetivos"
   ]
  },
  {
   "cell_type": "markdown",
   "metadata": {
    "vscode": {
     "languageId": "plaintext"
    }
   },
   "source": [
    "* **Ahorrar tiempo**\n",
    "* **Facilidad en el trabajo**\n",
    "    * Escalabilidad: poder añadir funciones nuevas o mejorar el proceso.\n",
    "    * Robustez: evitar errores.\n",
    "    * Poder compartirlo con compañeros: intercambiar ideas, colaborar."
   ]
  },
  {
   "cell_type": "markdown",
   "metadata": {},
   "source": [
    "# Organiza el trabajo"
   ]
  },
  {
   "cell_type": "markdown",
   "metadata": {},
   "source": [
    "* Piensa de antemano qué quieres conseguir y cómo.\n",
    "    * Diagramas de flujo\n",
    "    * Mapas mentales: [XMind](https://xmind.ai/)\n",
    "    * Papel y bolígrafo"
   ]
  },
  {
   "cell_type": "markdown",
   "metadata": {
    "vscode": {
     "languageId": "plaintext"
    }
   },
   "source": [
    "# Bajo nivel"
   ]
  },
  {
   "cell_type": "markdown",
   "metadata": {
    "vscode": {
     "languageId": "plaintext"
    }
   },
   "source": [
    "## Comenta el código"
   ]
  },
  {
   "cell_type": "markdown",
   "metadata": {
    "vscode": {
     "languageId": "plaintext"
    }
   },
   "source": [
    "Al escribir un código por primera vez, se suelen tener las ideas claras y mucha información de la implementación técnica. Con el paso del tiempo, aparecerán otros asuntos y el código evolucionará. Por eso, es importante documentar el código con comentarios, tipados y docstrings para que otras personas puedan entenderlo y para que uno mismo pueda recordar lo que hizo. \n",
    "\n",
    "Muy útil para Copilot y otros ayudantes automáticos."
   ]
  },
  {
   "cell_type": "markdown",
   "metadata": {
    "vscode": {
     "languageId": "markdown"
    }
   },
   "source": [
    "<p align=\"center\">\n",
    "    <img src=\"https://pbs.twimg.com/media/CYPTfviWQAAa2VG?format=jpg&name=900x900\" alt=\"Image\">\n",
    "</p>"
   ]
  },
  {
   "cell_type": "markdown",
   "metadata": {
    "vscode": {
     "languageId": "plaintext"
    }
   },
   "source": [
    "Consejos a la hora de comentar:\n",
    "\n",
    "* Mantén comentarios de alto nivel que no repitan el código.\n",
    "* Añade explicaciones si no es evidente el motivo del código.\n",
    "* Sé preciso y conciso."
   ]
  },
  {
   "cell_type": "code",
   "execution_count": 1,
   "metadata": {},
   "outputs": [
    {
     "name": "stdout",
     "output_type": "stream",
     "text": [
      "[4, 6, 25, 12, 64, 18, 40]\n"
     ]
    }
   ],
   "source": [
    "# Ejemplo sin comentar\n",
    "def procesar_datos(datos): # Mejorar nombre de la función\n",
    "    resultados = []\n",
    "    for d in datos:\n",
    "        if d > 0:\n",
    "            valor = d * 2\n",
    "            if valor % 3 == 0:\n",
    "                resultados.append(valor)\n",
    "            elif valor % 5 == 0:\n",
    "                resultados.append(valor * 2)\n",
    "        elif d < 0:\n",
    "            valor = abs(d)\n",
    "            resultados.append(valor**2)\n",
    "    return resultados\n",
    "\n",
    "datos = [1, -2, 3, 4, -5, 6, 7, -8, 9, 10]\n",
    "print(procesar_datos(datos))"
   ]
  },
  {
   "cell_type": "code",
   "execution_count": 2,
   "metadata": {},
   "outputs": [
    {
     "name": "stdout",
     "output_type": "stream",
     "text": [
      "[4, 6, 25, 12, 64, 18, 40]\n"
     ]
    }
   ],
   "source": [
    "# Ejemplo comentado\n",
    "def procesar_datos(datos):\n",
    "    \"\"\"\n",
    "    Esta función procesa una lista de números y devuelve una nueva lista con resultados basados en ciertas condiciones.\n",
    "    Si el número es positivo, se multiplica por 2 y si el resultado es divisible por 3, se añade a la lista de resultados.\n",
    "    Si el resultado es divisible por 5, se multiplica por 2 y se añade a la lista de resultados.\n",
    "    Si el número es negativo, se obtiene el valor absoluto y se eleva al cuadrado, añadiendo el resultado a la lista.\n",
    "    \"\"\"\n",
    "    resultados = [] \n",
    "    for d in datos: \n",
    "        if d > 0:  # Si el número es positivo\n",
    "            valor = d * 2  \n",
    "            if valor % 3 == 0:  # Si el resultado es divisible por 3\n",
    "                resultados.append(valor) \n",
    "            elif valor % 5 == 0:  # Si el resultado es divisible por 5\n",
    "                resultados.append(valor * 2) \n",
    "        elif d < 0:  # Si el número es negativo\n",
    "            valor = abs(d) \n",
    "            resultados.append(valor**2) \n",
    "    return resultados \n",
    "\n",
    "datos = [1, -2, 3, 4, -5, 6, 7, -8, 9, 10]\n",
    "print(procesar_datos(datos))"
   ]
  },
  {
   "cell_type": "code",
   "execution_count": null,
   "metadata": {},
   "outputs": [],
   "source": [
    "# ¿Puedes mejorar el código?\n",
    "def procesar_datos(datos):\n",
    "    pass"
   ]
  },
  {
   "cell_type": "markdown",
   "metadata": {},
   "source": [
    "## Readability counts (la legibilidad cuenta)"
   ]
  },
  {
   "cell_type": "code",
   "execution_count": 3,
   "metadata": {},
   "outputs": [
    {
     "name": "stdout",
     "output_type": "stream",
     "text": [
      "200\n"
     ]
    }
   ],
   "source": [
    "# Difícil de leer\n",
    "def f(x,y):return x*y;\n",
    "a=10;b=20;c=f(a,b);print(c)"
   ]
  },
  {
   "cell_type": "code",
   "execution_count": 4,
   "metadata": {},
   "outputs": [
    {
     "name": "stdout",
     "output_type": "stream",
     "text": [
      "200\n"
     ]
    }
   ],
   "source": [
    "# Más fácil de leer\n",
    "def calcular_producto(numero1, numero2):\n",
    "  \"\"\"\n",
    "  Esta función calcula el producto de dos números.\n",
    "  \"\"\"\n",
    "  producto = numero1 * numero2\n",
    "  return producto\n",
    "\n",
    "numero_a = 10\n",
    "numero_b = 20\n",
    "resultado = calcular_producto(numero_a, numero_b)\n",
    "print(resultado)"
   ]
  },
  {
   "cell_type": "markdown",
   "metadata": {},
   "source": [
    "**Consejos**:\n",
    "* **Usar nombres descriptivos**: Los nombres de las variables y funciones deben ser descriptivos y representar el propósito de la variable o función.\n",
    "* **Ser riguroso con los nombres de las variables**: evitar utilizar el mismo nombre para dos objetos con comportamientos diferentes.\n",
    "* **Usar convenciones de estilo**, como [PEP 8](https://peps.python.org/pep-0008/).\n",
    "* **Dar aire**: añadir espacios en blanco para separar bloques de código, especialmente para bloques funcionales."
   ]
  },
  {
   "cell_type": "markdown",
   "metadata": {},
   "source": [
    "# Estructura del código"
   ]
  },
  {
   "cell_type": "markdown",
   "metadata": {
    "vscode": {
     "languageId": "html"
    }
   },
   "source": [
    "<p align=\"center\">\n",
    "    <img src=\"https://substackcdn.com/image/fetch/w_1456,c_limit,f_webp,q_auto:good,fl_progressive:steep/https%3A%2F%2Fbucketeer-e05bbc84-baa3-437e-9518-adb32be77984.s3.amazonaws.com%2Fpublic%2Fimages%2F7b4d4e36-8863-4aa7-be38-2e99121ef2a4_1080x1020.png\">\n",
    "</p>"
   ]
  },
  {
   "cell_type": "markdown",
   "metadata": {},
   "source": [
    "## Código spaghetti"
   ]
  },
  {
   "cell_type": "markdown",
   "metadata": {
    "vscode": {
     "languageId": "html"
    }
   },
   "source": [
    "<p align=\"center\">\n",
    "    <img src=\"https://miro.medium.com/v2/resize:fit:750/format:webp/0*RTnjKNOBLvh95iK-.png\" alt=\"Image\">\n",
    "</p>"
   ]
  },
  {
   "cell_type": "code",
   "execution_count": null,
   "metadata": {},
   "outputs": [],
   "source": [
    "# Código spaghetti\n",
    "def process_data(data):\n",
    "    result = 0\n",
    "    if data['type'] == 1:\n",
    "        for i in range(len(data['values'])):\n",
    "            if data['values'][i] > 10:\n",
    "                result += data['values'][i] * 2\n",
    "            else:\n",
    "                result += data['values'][i]\n",
    "        if result > 1000:\n",
    "            result /= 2\n",
    "    elif data['type'] == 2:\n",
    "        j = 0\n",
    "        while j < len(data['values']):\n",
    "            if data['values'][j] < 5:\n",
    "                result += data['values'][j] * 3\n",
    "            else:\n",
    "                result += data['values'][j]\n",
    "            j += 1\n",
    "        if result < 50:\n",
    "            result *= 2\n",
    "    elif data['type'] == 3:\n",
    "        k = 0\n",
    "        while k < len(data['values']):  # Changed to while loop for demonstration\n",
    "            result += data['values'][k] + 5\n",
    "            k += 1\n",
    "        if result % 2 == 0:\n",
    "            result = result / 3\n",
    "    else:  # Default case, could be more complex\n",
    "        for m in range(len(data['values'])):\n",
    "            result += data['values'][m]\n",
    "\n",
    "    if result > 500:\n",
    "        result -= 100\n",
    "\n",
    "    return result"
   ]
  },
  {
   "cell_type": "code",
   "execution_count": null,
   "metadata": {},
   "outputs": [],
   "source": [
    "# Versión refactorizada\n",
    "def process_data_type1(values):\n",
    "    result = 0\n",
    "    for value in values:\n",
    "        result += value * 2 if value > 10 else value\n",
    "    return result / 2 if result > 1000 else result\n",
    "\n",
    "def process_data_type2(values):\n",
    "    result = 0\n",
    "    for value in values:\n",
    "        result += value * 3 if value < 5 else value\n",
    "    return result * 2 if result < 50 else result\n",
    "\n",
    "def process_data_type3(values):\n",
    "    result = 0\n",
    "    for value in values:\n",
    "        result += value + 5\n",
    "    return result / 3 if result % 2 == 0 else result\n",
    "\n",
    "def process_data(data):\n",
    "    values = data['values']  # Extract values for easier access\n",
    "    data_type = data['type']\n",
    "\n",
    "    if data_type == 1:\n",
    "        result = process_data_type1(values)\n",
    "    elif data_type == 2:\n",
    "        result = process_data_type2(values)\n",
    "    elif data_type == 3:\n",
    "        result = process_data_type3(values)\n",
    "    else:  # Default case\n",
    "        result = sum(values) # More concise default calculation\n",
    "\n",
    "    return result - 100 if result > 500 else result"
   ]
  },
  {
   "cell_type": "markdown",
   "metadata": {},
   "source": [
    "## Código lasaña "
   ]
  },
  {
   "cell_type": "markdown",
   "metadata": {},
   "source": [
    "Los códigos lasaña son códigos con excesivas capas, haciéndolo más complejo y difícil de mantener de lo necestario. "
   ]
  },
  {
   "cell_type": "code",
   "execution_count": null,
   "metadata": {},
   "outputs": [],
   "source": [
    "# Código lasaña\n",
    "class DataProcessor:\n",
    "    def __init__(self, data_source):\n",
    "        self.data_source = data_source\n",
    "        self.filter = DataFilter()\n",
    "        self.transformer = DataTransformer()\n",
    "        self.aggregator = DataAggregator()\n",
    "\n",
    "    def process_data(self):\n",
    "        raw_data = self.data_source.fetch_data()\n",
    "        filtered_data = self.filter.apply_filter(raw_data)\n",
    "        transformed_data = self.transformer.transform_data(filtered_data)\n",
    "        aggregated_data = self.aggregator.aggregate(transformed_data)\n",
    "        return aggregated_data\n",
    "\n",
    "class DataSource:  # Layer 1\n",
    "    def fetch_data(self):\n",
    "        # Imagine complex database interaction or API calls here...\n",
    "        return [{\"id\": 1, \"value\": 10}, {\"id\": 2, \"value\": 20}, {\"id\": 3, \"value\": 30}]  # Simplified for demonstration\n",
    "\n",
    "class DataFilter:  # Layer 2\n",
    "    def apply_filter(self, data):\n",
    "        return [item for item in data if item[\"value\"] > 5] # Simple filter\n",
    "\n",
    "class DataTransformer:  # Layer 3\n",
    "    def transform_data(self, data):\n",
    "        return [{\"id\": item[\"id\"], \"doubled_value\": item[\"value\"] * 2} for item in data]\n",
    "\n",
    "class DataAggregator:  # Layer 4\n",
    "    def aggregate(self, data):\n",
    "        return sum(item[\"doubled_value\"] for item in data)\n",
    "    \n",
    "# Usage\n",
    "source = DataSource()\n",
    "processor = DataProcessor(source)\n",
    "result = processor.process_data()\n",
    "print(result)  # Output: 120"
   ]
  },
  {
   "cell_type": "code",
   "execution_count": null,
   "metadata": {},
   "outputs": [],
   "source": [
    "# Versión refactorizada\n",
    "def process_data(data):  # No need for a separate DataProcessor class\n",
    "    filtered_data = [item for item in data if item[\"value\"] > 5]\n",
    "    transformed_data = [{\"id\": item[\"id\"], \"doubled_value\": item[\"value\"] * 2} for item in filtered_data]\n",
    "    aggregated_data = sum(item[\"doubled_value\"] for item in transformed_data)\n",
    "    return aggregated_data\n",
    "\n",
    "def fetch_data():  # Keep data fetching separate but not overly abstracted\n",
    "    # Imagine complex database interaction or API calls here...\n",
    "    return [{\"id\": 1, \"value\": 10}, {\"id\": 2, \"value\": 20}, {\"id\": 3, \"value\": 30}]\n",
    "\n",
    "# Usage\n",
    "data = fetch_data()\n",
    "result = process_data(data)\n",
    "print(result)  # Output: 120"
   ]
  },
  {
   "cell_type": "markdown",
   "metadata": {},
   "source": [
    "# Alto nivel"
   ]
  },
  {
   "cell_type": "markdown",
   "metadata": {},
   "source": [
    "# Patrones de diseño"
   ]
  },
  {
   "cell_type": "markdown",
   "metadata": {},
   "source": [
    "Los patrones de diseño son estrategias para organizar el código que solventan problemas comunes en el diseño de software. Hay de muchos tipos, pero aquí abordaremos el **diseño modular**. Para ver más opciones, puedes consultar [Design Patterns in Python](https://refactoring.guru/design-patterns/python)."
   ]
  },
  {
   "cell_type": "markdown",
   "metadata": {},
   "source": [
    "## Diseño modular"
   ]
  },
  {
   "cell_type": "markdown",
   "metadata": {},
   "source": [
    " El **diseño modular** consiste en dividir un programa en partes o módulos más pequeños. Cada módulo tiene una función o tarea específica y se comunica con otros módulos para realizar tareas más complejas. \n",
    "\n",
    "* **Ventajas**:\n",
    "    * Fácil de mantener y depurar: responsabilidades claras y acotadas.\n",
    "    * Permite reutilizar código.\n",
    "    * Facilita la colaboración en equipos grandes.\n",
    "* **Desventajas**:\n",
    "    * Puede ser más lento debido a la comunicación entre módulos.\n",
    "    * Requiere una buena planificación y diseño inicial.\n"
   ]
  },
  {
   "cell_type": "markdown",
   "metadata": {},
   "source": [
    "**Ejemplos**:\n",
    "\n",
    "* Varias clases encadenadas\n",
    "    * La salida del objeto 1 es la entrada del objeto 2, y así sucesivamente."
   ]
  },
  {
   "cell_type": "code",
   "execution_count": 7,
   "metadata": {},
   "outputs": [
    {
     "name": "stdout",
     "output_type": "stream",
     "text": [
      "Texto original: Hola, mundo!\n",
      "Longitud del texto procesado: 11\n"
     ]
    },
    {
     "data": {
      "text/plain": [
       "'HOLA,MUNDO!'"
      ]
     },
     "execution_count": 7,
     "metadata": {},
     "output_type": "execute_result"
    }
   ],
   "source": [
    "class ProcesadorDeTexto:\n",
    "    def __init__(self) -> None:\n",
    "        pass\n",
    "\n",
    "    def eliminar_espacios(self, texto: str) -> str:\n",
    "        return texto.replace(\" \", \"\")\n",
    "\n",
    "    def convertir_a_mayusculas(self, texto: str) -> str:\n",
    "        return texto.upper()\n",
    "\n",
    "    def contar_caracteres(self, texto: str) -> int:\n",
    "        return len(texto)\n",
    "\n",
    "    def main(self, texto_original: str) -> str:\n",
    "        texto_sin_espacios: str = self.eliminar_espacios(texto_original)  # Eliminamos espacios\n",
    "        texto_mayusculas: str = self.convertir_a_mayusculas(texto_sin_espacios)  # Convertimos a mayúsculas\n",
    "        longitud: int = self.contar_caracteres(texto_mayusculas)  # Contamos caracteres del texto en mayúsculas\n",
    "\n",
    "        print(f\"Texto original: {texto_original}\")\n",
    "        print(f\"Longitud del texto procesado: {longitud}\")\n",
    "\n",
    "        return texto_mayusculas\n",
    "\n",
    "procesador = ProcesadorDeTexto()\n",
    "texto_procesado = procesador.main(\"Hola, mundo!\")\n",
    "texto_procesado"
   ]
  },
  {
   "cell_type": "markdown",
   "metadata": {},
   "source": [
    "* Una clase principal que agrupa otras clases\n",
    "    * La clase principal llama las clases secundarias y adapta su salida para la siguiente clase."
   ]
  },
  {
   "cell_type": "code",
   "execution_count": 8,
   "metadata": {},
   "outputs": [
    {
     "name": "stdout",
     "output_type": "stream",
     "text": [
      "Texto original: Hola, mundo!\n",
      "Longitud del texto procesado: 11\n"
     ]
    },
    {
     "data": {
      "text/plain": [
       "'HOLA,MUNDO!'"
      ]
     },
     "execution_count": 8,
     "metadata": {},
     "output_type": "execute_result"
    }
   ],
   "source": [
    "# Definir funciones fuera de la clase\n",
    "def eliminar_espacios(texto: list) -> list:\n",
    "    return [t.replace(\" \", \"\") for t in texto]\n",
    "\n",
    "def convertir_a_mayusculas(texto: str) -> str:\n",
    "    return texto.upper()\n",
    "\n",
    "def contar_caracteres(texto: str) -> int:\n",
    "    return len(texto)\n",
    "\n",
    "# Clase mejorada\n",
    "class ProcesadorDeTexto:\n",
    "    def __init__(self) -> None:\n",
    "        pass\n",
    "\n",
    "    def main(self, texto_original: str) -> str:\n",
    "        # Comprobaciones de validez\n",
    "        if not isinstance(texto_original, str):\n",
    "            raise ValueError(\"El texto debe ser una cadena.\")\n",
    "        if len(texto_original) > 100:\n",
    "            raise ValueError(\"El texto no debe tener más de 100 caracteres.\")\n",
    "\n",
    "        # Procesamiento del texto\n",
    "        texto_sin_espacios: list = eliminar_espacios([texto_original])\n",
    "        texto_sin_espacios_str: str = ''.join(texto_sin_espacios)\n",
    "        texto_mayusculas: str = convertir_a_mayusculas(texto_sin_espacios_str)\n",
    "        longitud: int = contar_caracteres(texto_mayusculas)\n",
    "\n",
    "        print(f\"Texto original: {texto_original}\")\n",
    "        print(f\"Longitud del texto procesado: {longitud}\")\n",
    "\n",
    "        return texto_mayusculas\n",
    "\n",
    "procesador = ProcesadorDeTexto()\n",
    "texto_procesado = procesador.main(\"Hola, mundo!\")\n",
    "texto_procesado"
   ]
  },
  {
   "cell_type": "markdown",
   "metadata": {},
   "source": [
    "# Ramas"
   ]
  },
  {
   "cell_type": "markdown",
   "metadata": {},
   "source": [
    "Para aplicaciones de negocio, es conveniente tener, al menos, tres ramas:\n",
    "* **main**: ejecuta el código en producción para los usuarios finales.\n",
    "* **staging**: ejecuta el código en un entorno de pruebas para validar los cambios antes de implementarlos en producción. Debe ser lo más similar posible a la rama principal.\n",
    "* **dev**: ejecuta el código en un entorno de desarrollo para probar nuevas características y cambios antes de enviarlos a pruebas."
   ]
  },
  {
   "cell_type": "markdown",
   "metadata": {},
   "source": [
    "**Nota**: la imagen de abajo usa \"Prod Stable\" en lugar de \"main\", \"Prod\" para \"staging\" y \"Staging\" para \"dev\". La idea es la misma, pero los nombres son diferentes."
   ]
  },
  {
   "cell_type": "markdown",
   "metadata": {
    "vscode": {
     "languageId": "html"
    }
   },
   "source": [
    "<p align=\"center\">\n",
    "    <img src=\"https://miro.medium.com/v2/resize:fit:1400/format:webp/1*uvPrd2fVEiJntdYhx7WLSw.png\" alt=\"Image\">\n",
    "</p>"
   ]
  },
  {
   "cell_type": "markdown",
   "metadata": {},
   "source": [
    "# Versionado de módulos y entornos virtuales"
   ]
  },
  {
   "cell_type": "markdown",
   "metadata": {},
   "source": [
    "* Controlar las versiones Python y módulos utilizados.\n",
    "    * Permite replicar las condiciones de desarrollo.\n",
    "\n",
    "* Utilizar un entorno virtual para cada proyecto.\n",
    "    * Evita conflictos entre dependencias de diferentes proyectos.\n",
    "    * Se crean con el comando: `python3 -m venv nombre_entorno`\n",
    "    * Se activan con comandos (diferencias en sistemas operativos).\n",
    "        * Windows: `nombre_entorno\\Scripts\\activate`\n",
    "        * Linux: `source nombre_entorno/bin/activate`\n",
    "\n",
    "* Los módulos utilizados se guardan en un archivo requirements.txt.\n",
    "    * Se crean con el comando: `pip freeze > requirements.txt`.\n",
    "    * Se instalan con el comando: `pip install -r requirements.txt`."
   ]
  },
  {
   "cell_type": "markdown",
   "metadata": {},
   "source": [
    "# Organizando el repositorio"
   ]
  },
  {
   "cell_type": "markdown",
   "metadata": {},
   "source": [
    "**Organiza el código de forma que sea fácil ubicar cada elemento.** \n",
    "\n",
    "Esturctura de ejemplo:\n",
    "\n",
    "* **Raíz**: Carpeta principal del proyecto.\n",
    "    * `README.md`: Archivo de documentación.\n",
    "    * `requirements.txt`: Archivo con las dependencias del proyecto.\n",
    "    * `.gitignore`: Archivo para ignorar archivos y carpetas en Git.\n",
    "    * Códigos principales\n",
    "\n",
    "* `src/`:\n",
    "    * Códigos con cada una de las clases o funciones usadas en los códigos principales.\n",
    "* `tests/`:\n",
    "    * Archivos de pruebas unitarias.\n",
    "* `docs/`:\n",
    "    * Archivos de documentación.\n",
    "* `credentials/`:\n",
    "    * JSON, CSV u otros archivos con credenciales.\n",
    "* `utils/`:\n",
    "    * Datos auxiliares o de uso común.\n",
    "* `checkpoints/`:\n",
    "    * Puntos de control de modelos pre-entrenados."
   ]
  }
 ],
 "metadata": {
  "kernelspec": {
   "display_name": "Python 3",
   "language": "python",
   "name": "python3"
  },
  "language_info": {
   "codemirror_mode": {
    "name": "ipython",
    "version": 3
   },
   "file_extension": ".py",
   "mimetype": "text/x-python",
   "name": "python",
   "nbconvert_exporter": "python",
   "pygments_lexer": "ipython3",
   "version": "3.12.4"
  }
 },
 "nbformat": 4,
 "nbformat_minor": 2
}
